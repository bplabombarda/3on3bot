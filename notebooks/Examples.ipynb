{
 "cells": [
  {
   "cell_type": "code",
   "execution_count": 1,
   "metadata": {},
   "outputs": [],
   "source": [
    "import os\n",
    "import sys\n",
    "\n",
    "module_path = os.path.abspath(os.path.join('..'))\n",
    "\n",
    "if module_path not in sys.path:\n",
    "    sys.path.append(module_path)"
   ]
  },
  {
   "cell_type": "code",
   "execution_count": 2,
   "metadata": {},
   "outputs": [],
   "source": [
    "from bot.tweet import get_games"
   ]
  },
  {
   "cell_type": "code",
   "execution_count": 3,
   "metadata": {},
   "outputs": [
    {
     "data": {
      "text/plain": [
       "[{'id': 2018030415,\n",
       "  'gs': 3,\n",
       "  'ts': '13:33 3rd',\n",
       "  'tsc': 'progress',\n",
       "  'bs': 'LIVE',\n",
       "  'bsc': 'progress',\n",
       "  'atn': 'St Louis',\n",
       "  'atv': 'blues',\n",
       "  'ats': '1',\n",
       "  'atc': 'progress',\n",
       "  'htn': 'Boston',\n",
       "  'htv': 'bruins',\n",
       "  'hts': '0',\n",
       "  'htc': 'progress',\n",
       "  'pl': True,\n",
       "  'rl': False,\n",
       "  'vl': False,\n",
       "  'gcl': True,\n",
       "  'gcll': True,\n",
       "  'ustv': 'NBC',\n",
       "  'catv': 'CBC,TVAS,SN'},\n",
       " {'id': 2018030416,\n",
       "  'gs': 1,\n",
       "  'ts': 'SUNDAY 6/9',\n",
       "  'tsc': '',\n",
       "  'bs': '5:00 PM',\n",
       "  'bsc': '',\n",
       "  'atn': 'Boston',\n",
       "  'atv': 'bruins',\n",
       "  'ats': '',\n",
       "  'atc': '',\n",
       "  'htn': 'St Louis',\n",
       "  'htv': 'blues',\n",
       "  'hts': '',\n",
       "  'htc': '',\n",
       "  'pl': True,\n",
       "  'rl': False,\n",
       "  'vl': False,\n",
       "  'gcl': True,\n",
       "  'gcll': True,\n",
       "  'ustv': 'NBC',\n",
       "  'catv': 'CBC,TVAS,SN'},\n",
       " {'id': 2018030417,\n",
       "  'gs': 1,\n",
       "  'ts': 'WEDNESDAY 6/12',\n",
       "  'tsc': '',\n",
       "  'bs': '5:00 PM',\n",
       "  'bsc': '',\n",
       "  'atn': 'St Louis',\n",
       "  'atv': 'blues',\n",
       "  'ats': '',\n",
       "  'atc': '',\n",
       "  'htn': 'Boston',\n",
       "  'htv': 'bruins',\n",
       "  'hts': '',\n",
       "  'htc': '',\n",
       "  'pl': True,\n",
       "  'rl': False,\n",
       "  'vl': False,\n",
       "  'gcl': True,\n",
       "  'gcll': True,\n",
       "  'ustv': 'NBC',\n",
       "  'catv': 'CBC,TVAS,SN'}]"
      ]
     },
     "execution_count": 3,
     "metadata": {},
     "output_type": "execute_result"
    }
   ],
   "source": [
    "get_games()"
   ]
  },
  {
   "cell_type": "code",
   "execution_count": 4,
   "metadata": {},
   "outputs": [
    {
     "name": "stdout",
     "output_type": "stream",
     "text": [
      "ID: 2018030415\n",
      "AWAY: St Louis\n",
      "HOME: Boston\n",
      "ID: 2018030416\n",
      "AWAY: Boston\n",
      "HOME: St Louis\n",
      "ID: 2018030417\n",
      "AWAY: St Louis\n",
      "HOME: Boston\n"
     ]
    }
   ],
   "source": [
    "games = get_games()\n",
    "\n",
    "for game in games:\n",
    "    print(\"ID: {}\".format(game['id']))\n",
    "    print(\"AWAY: {}\".format(game['atn']))\n",
    "    print(\"HOME: {}\".format(game['htn']))"
   ]
  },
  {
   "cell_type": "code",
   "execution_count": null,
   "metadata": {},
   "outputs": [],
   "source": []
  }
 ],
 "metadata": {
  "kernelspec": {
   "display_name": "Python 3",
   "language": "python",
   "name": "python3"
  },
  "language_info": {
   "codemirror_mode": {
    "name": "ipython",
    "version": 3
   },
   "file_extension": ".py",
   "mimetype": "text/x-python",
   "name": "python",
   "nbconvert_exporter": "python",
   "pygments_lexer": "ipython3",
   "version": "3.7.1"
  }
 },
 "nbformat": 4,
 "nbformat_minor": 2
}
