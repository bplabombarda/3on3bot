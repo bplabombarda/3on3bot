{
 "cells": [
  {
   "cell_type": "code",
   "execution_count": 1,
   "metadata": {},
   "outputs": [],
   "source": [
    "import os\n",
    "import sys\n",
    "\n",
    "module_path = os.path.abspath(os.path.join('..'))\n",
    "\n",
    "if module_path not in sys.path:\n",
    "    sys.path.append(module_path)"
   ]
  },
  {
   "cell_type": "code",
   "execution_count": 2,
   "metadata": {},
   "outputs": [],
   "source": [
    "from bot.tweet import check_games"
   ]
  },
  {
   "cell_type": "code",
   "execution_count": 3,
   "metadata": {},
   "outputs": [
    {
     "name": "stdout",
     "output_type": "stream",
     "text": [
      "@SanJoseSharks at @MapleLeafs tied at 4 going into #3on3OT\n",
      "{'id': 2015020469, 'gs': 4, 'ts': 'END 3rd', 'tsc': 'critical', 'bs': 'LIVE', 'bsc': 'progress', 'atn': 'San Jose', 'atv': 'sharks', 'ats': '4', 'atc': 'progress', 'htn': 'Toronto', 'htv': 'mapleleafs', 'hts': '4', 'htc': 'progress', 'pl': True, 'rl': False, 'vl': False, 'gcl': True, 'gcll': True, 'ustv': '', 'catv': ''}\n",
      "@SanJoseSharks at @MapleLeafs tied at 4 going into #3on3OT\n",
      "{'id': 2015020469, 'gs': 4, 'ts': '02:58 OT', 'tsc': 'critical', 'bs': 'LIVE', 'bsc': 'progress', 'atn': 'San Jose', 'atv': 'sharks', 'ats': '4', 'atc': 'progress', 'htn': 'Toronto', 'htv': 'mapleleafs', 'hts': '4', 'htc': 'progress', 'pl': True, 'rl': False, 'vl': False, 'gcl': True, 'gcll': True, 'ustv': '', 'catv': ''}\n"
     ]
    }
   ],
   "source": [
    "ot_games = check_games()"
   ]
  },
  {
   "cell_type": "code",
   "execution_count": null,
   "metadata": {},
   "outputs": [],
   "source": [
    "print(ot_games)"
   ]
  },
  {
   "cell_type": "code",
   "execution_count": null,
   "metadata": {},
   "outputs": [],
   "source": []
  }
 ],
 "metadata": {
  "kernelspec": {
   "display_name": "Python 3",
   "language": "python",
   "name": "python3"
  },
  "language_info": {
   "codemirror_mode": {
    "name": "ipython",
    "version": 3
   },
   "file_extension": ".py",
   "mimetype": "text/x-python",
   "name": "python",
   "nbconvert_exporter": "python",
   "pygments_lexer": "ipython3",
   "version": "3.7.1"
  }
 },
 "nbformat": 4,
 "nbformat_minor": 2
}
